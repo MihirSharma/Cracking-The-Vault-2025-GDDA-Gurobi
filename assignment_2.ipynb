{
 "cells": [
  {
   "cell_type": "code",
   "execution_count": 110,
   "metadata": {},
   "outputs": [],
   "source": [
    "import pandas as pd\n",
    "import gurobipy as gp\n",
    "from gurobipy import GRB\n",
    "import os\n",
    "import numpy as np\n",
    "os.chdir(\"C:/Users/mihir/OneDrive/Desktop/MDI/Gurobi_Workspace/Cracking_the_vault_2025_GDDA\")"
   ]
  },
  {
   "cell_type": "code",
   "execution_count": 111,
   "metadata": {},
   "outputs": [],
   "source": [
    "safe_code_model = gp.Model(\"safe_code\")"
   ]
  },
  {
   "cell_type": "code",
   "execution_count": 128,
   "metadata": {},
   "outputs": [],
   "source": [
    "code_length = 6\n",
    "digits = [f\"{i}\" for i in range(code_length)]\n",
    "x = safe_code_model.addVars(digits, name=\"digits\", vtype=GRB.INTEGER, lb=0, ub=9)\n",
    "control_for_x5 = safe_code_model.addVar(name=\"k\", vtype=GRB.INTEGER, lb = 1, ub = 4)\n",
    "safe_code_model.update()"
   ]
  },
  {
   "cell_type": "code",
   "execution_count": 129,
   "metadata": {},
   "outputs": [],
   "source": [
    "digit_sum = safe_code_model.addConstr((gp.quicksum(x[i] for i in digits)==30), name = \"digit_sum_constr\")\n",
    "safe_code_model.update()"
   ]
  },
  {
   "cell_type": "code",
   "execution_count": 130,
   "metadata": {},
   "outputs": [],
   "source": [
    "constr_3 = safe_code_model.addConstr(x[\"1\"] == 2*x[\"0\"], name = \"constr_3\")\n",
    "constr_4 = safe_code_model.addConstr(x[\"2\"]>=5, name=\"constr_4\")\n",
    "constr_5 = safe_code_model.addConstr(x[\"3\"] == x[\"0\"]+x[\"2\"], name=\"constr_5\")\n",
    "constr_6 = safe_code_model.addConstr(x[\"5\"] == 2*x[\"4\"], name = \"constr_6\")\n",
    "constr_7 = safe_code_model.addConstr(x[\"5\"] == 2*control_for_x5, name=\"constr_7\")\n",
    "safe_code_model.update()"
   ]
  },
  {
   "cell_type": "code",
   "execution_count": 155,
   "metadata": {},
   "outputs": [
    {
     "name": "stdout",
     "output_type": "stream",
     "text": [
      "Warning: variables 0 and 6 have the same name \"digits[x0]\"\n",
      "Warning: linear constraint 7 and linear constraint 10 have the same name \"constr_3\"\n",
      "Warning: to let Gurobi read it back, use rlp format\n"
     ]
    }
   ],
   "source": [
    "digit_sum = safe_code_model.setObjective(gp.quicksum(x[i] for i in digits), GRB.MAXIMIZE)\n",
    "safe_code_model.update()\n",
    "safe_code_model.write(\"safe_code.lp\")"
   ]
  },
  {
   "cell_type": "code",
   "execution_count": 156,
   "metadata": {},
   "outputs": [
    {
     "name": "stdout",
     "output_type": "stream",
     "text": [
      "Gurobi Optimizer version 12.0.3 build v12.0.3rc0 (win64 - Windows 11.0 (26100.2))\n",
      "\n",
      "CPU model: 12th Gen Intel(R) Core(TM) i7-12700H, instruction set [SSE2|AVX|AVX2]\n",
      "Thread count: 14 physical cores, 20 logical processors, using up to 20 threads\n",
      "\n",
      "Non-default parameters:\n",
      "PoolSearchMode  1\n",
      "\n",
      "Optimize a model with 33 rows, 49 columns and 67 nonzeros\n",
      "Model fingerprint: 0x27f337ca\n",
      "Variable types: 0 continuous, 49 integer (0 binary)\n",
      "Coefficient statistics:\n",
      "  Matrix range     [1e+00, 2e+00]\n",
      "  Objective range  [1e+00, 1e+00]\n",
      "  Bounds range     [1e+00, 9e+00]\n",
      "  RHS range        [2e+00, 3e+01]\n",
      "\n",
      "Loaded MIP start from previous solve with objective 30\n",
      "\n",
      "Presolve removed 33 rows and 49 columns\n",
      "Presolve time: 0.00s\n",
      "Presolve: All rows and columns removed\n",
      "\n",
      "Explored 0 nodes (0 simplex iterations) in 0.01 seconds (0.00 work units)\n",
      "Thread count was 1 (of 20 available processors)\n",
      "\n",
      "Solution count 1: 30 \n",
      "\n",
      "Optimal solution found (tolerance 1.00e-04)\n",
      "Best objective 3.000000000000e+01, best bound 3.000000000000e+01, gap 0.0000%\n"
     ]
    }
   ],
   "source": [
    "safe_code_model.optimize()"
   ]
  },
  {
   "cell_type": "code",
   "execution_count": 166,
   "metadata": {},
   "outputs": [
    {
     "data": {
      "text/html": [
       "<div>\n",
       "<style scoped>\n",
       "    .dataframe tbody tr th:only-of-type {\n",
       "        vertical-align: middle;\n",
       "    }\n",
       "\n",
       "    .dataframe tbody tr th {\n",
       "        vertical-align: top;\n",
       "    }\n",
       "\n",
       "    .dataframe thead th {\n",
       "        text-align: right;\n",
       "    }\n",
       "</style>\n",
       "<table border=\"1\" class=\"dataframe\">\n",
       "  <thead>\n",
       "    <tr style=\"text-align: right;\">\n",
       "      <th></th>\n",
       "      <th>selections</th>\n",
       "    </tr>\n",
       "  </thead>\n",
       "  <tbody>\n",
       "    <tr>\n",
       "      <th>0</th>\n",
       "      <td>3.0</td>\n",
       "    </tr>\n",
       "    <tr>\n",
       "      <th>1</th>\n",
       "      <td>6.0</td>\n",
       "    </tr>\n",
       "    <tr>\n",
       "      <th>2</th>\n",
       "      <td>6.0</td>\n",
       "    </tr>\n",
       "    <tr>\n",
       "      <th>3</th>\n",
       "      <td>9.0</td>\n",
       "    </tr>\n",
       "    <tr>\n",
       "      <th>4</th>\n",
       "      <td>2.0</td>\n",
       "    </tr>\n",
       "    <tr>\n",
       "      <th>5</th>\n",
       "      <td>4.0</td>\n",
       "    </tr>\n",
       "  </tbody>\n",
       "</table>\n",
       "</div>"
      ],
      "text/plain": [
       "   selections\n",
       "0         3.0\n",
       "1         6.0\n",
       "2         6.0\n",
       "3         9.0\n",
       "4         2.0\n",
       "5         4.0"
      ]
     },
     "metadata": {},
     "output_type": "display_data"
    },
    {
     "data": {
      "text/plain": [
       "'366924'"
      ]
     },
     "execution_count": 166,
     "metadata": {},
     "output_type": "execute_result"
    }
   ],
   "source": [
    "sol = pd.Series(safe_code_model.getAttr('X', x), name = 'selections')\n",
    "sol_frame = sol.to_frame()\n",
    "# display(safe_code_model.ObjVal)\n",
    "display(sol_frame)\n",
    "code = \"\".join([str(int(i)) for i in sol_frame[\"selections\"].tolist()])\n",
    "code\n"
   ]
  }
 ],
 "metadata": {
  "kernelspec": {
   "display_name": "Python 3 (ipykernel)",
   "language": "python",
   "name": "python3"
  },
  "language_info": {
   "codemirror_mode": {
    "name": "ipython",
    "version": 3
   },
   "file_extension": ".py",
   "mimetype": "text/x-python",
   "name": "python",
   "nbconvert_exporter": "python",
   "pygments_lexer": "ipython3",
   "version": "3.12.6"
  }
 },
 "nbformat": 4,
 "nbformat_minor": 2
}
